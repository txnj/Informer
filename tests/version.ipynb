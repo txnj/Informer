{
 "cells": [
  {
   "cell_type": "code",
   "id": "initial_id",
   "metadata": {
    "collapsed": true,
    "ExecuteTime": {
     "end_time": "2024-09-09T11:08:39.190666Z",
     "start_time": "2024-09-09T11:08:39.177155Z"
    }
   },
   "source": [
    "import numpy as np\n",
    "import torch\n",
    "import pandas as pd"
   ],
   "outputs": [],
   "execution_count": 14
  },
  {
   "metadata": {
    "ExecuteTime": {
     "end_time": "2024-09-09T11:08:39.206032Z",
     "start_time": "2024-09-09T11:08:39.192668Z"
    }
   },
   "cell_type": "code",
   "source": [
    "print(f'numpy version: {np.__version__}')\n",
    "print(f'torch version: {torch.__version__}')\n",
    "print(f'cuda version: {torch.version.cuda}')\n",
    "print(f'pandas version: {pd.__version__}')\n",
    "print('cuda' if torch.cuda.is_available() else 'cpu')"
   ],
   "id": "3874fbf7696b80ce",
   "outputs": [
    {
     "name": "stdout",
     "output_type": "stream",
     "text": [
      "numpy version: 1.26.4\n",
      "torch version: 2.4.1+cu118\n",
      "cuda version: 11.8\n",
      "pandas version: 2.2.2\n",
      "cuda\n"
     ]
    }
   ],
   "execution_count": 15
  },
  {
   "metadata": {},
   "cell_type": "markdown",
   "source": [
    "### Informer 模型的简要介绍\n",
    "- Informer 是一种用于长序列时间序列预测的深度学习模型\n",
    "- 它采用了自注意力机制,但通过创新的 ProbSparse 自注意力来降低计算复杂度\n",
    "- 相比传统 Transformer,Informer 能够处理更长的输入序列,并生成更长的预测序列,它在多个长序列预测任务上取得了优异的性能\n",
    "- Informer 模型于 2020 年 11 月首次在 arXiv 上发表\n",
    "- 论文标题为 \"Informer: Beyond Efficient Transformer for Long Sequence Time-Series Forecasting\"\n",
    "- 作者来自中国人民大学和清华大学\n",
    "- Informer 是一个专门针对长序列时间序列预测优化的 Transformer 变体,在 2020 年底提出并引起了广泛关注。"
   ],
   "id": "a5163f9bc6788159"
  }
 ],
 "metadata": {
  "kernelspec": {
   "display_name": "Python 3",
   "language": "python",
   "name": "python3"
  },
  "language_info": {
   "codemirror_mode": {
    "name": "ipython",
    "version": 2
   },
   "file_extension": ".py",
   "mimetype": "text/x-python",
   "name": "python",
   "nbconvert_exporter": "python",
   "pygments_lexer": "ipython2",
   "version": "2.7.6"
  }
 },
 "nbformat": 4,
 "nbformat_minor": 5
}
